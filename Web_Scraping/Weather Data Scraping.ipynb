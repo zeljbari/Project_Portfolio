{
 "cells": [
  {
   "cell_type": "markdown",
   "metadata": {},
   "source": [
    "# Scrape the wundeground for weather data\n"
   ]
  },
  {
   "cell_type": "code",
   "execution_count": 1,
   "metadata": {},
   "outputs": [],
   "source": [
    "import requests\n",
    "from selenium import webdriver\n",
    "from selenium.webdriver.common.by import By\n",
    "from selenium.webdriver.support.ui import WebDriverWait\n",
    "from selenium.webdriver.support import expected_conditions as EC\n",
    "import pandas as pd"
   ]
  },
  {
   "cell_type": "code",
   "execution_count": 2,
   "metadata": {},
   "outputs": [],
   "source": [
    "# Function to define a date range\n",
    "\n",
    "from datetime import timedelta, date\n",
    "\n",
    "def daterange(start_date, end_date):\n",
    "    for i in range(int((end_date - start_date).days)):\n",
    "        yield start_date + timedelta(i)\n",
    "\n"
   ]
  },
  {
   "cell_type": "code",
   "execution_count": 3,
   "metadata": {},
   "outputs": [],
   "source": [
    "#Start date (inclusive)\n",
    "start_date = date(2019, 6, 1)\n",
    "\n",
    "#End-date wanted (exclusive)\n",
    "end_date = date(2020, 7, 1)\n",
    "\n",
    "# Columns\n",
    "df_cols= ['Time', 'Temperature', 'Dew Point', 'Humidity', 'Wind', 'Wind Speed',\n",
    "       'Wind Gust', 'Pressure', 'Precip.', 'Condition', 'date']\n",
    "# instantiate the empty dataframe with the columns that we will be needing\n",
    "main_df= pd.DataFrame(columns= df_cols)"
   ]
  },
  {
   "cell_type": "code",
   "execution_count": 4,
   "metadata": {},
   "outputs": [],
   "source": [
    "#Set path for and instantiate the webdriver to get info\n",
    "path=r'C:\\Users\\Zakaria El Jbari\\Downloads\\chromedriver.exe'\n",
    "driver = webdriver.Chrome(path)"
   ]
  },
  {
   "cell_type": "code",
   "execution_count": 5,
   "metadata": {},
   "outputs": [],
   "source": [
    "# Loop to generate the weather dataframe for desired time window\n",
    "for date in daterange(start_date, end_date):\n",
    "    # format the date\n",
    "    date= date.strftime(\"%Y-%m-%d\")\n",
    "    # Plug date into the URL\n",
    "    URL= \"https://www.wunderground.com/history/daily/us/ny/new-york-city/KLGA/date/{}\".format(date)\n",
    "    # Get request\n",
    "    driver.get(URL)\n",
    "    # isolate the tables by their class name\n",
    "    tables = WebDriverWait(driver,20).until(EC.presence_of_all_elements_located((By.CLASS_NAME, \"mat-table.cdk-table.mat-sort.ng-star-inserted\")))\n",
    "    \n",
    "    #Extract the wanted table\n",
    "    for table in tables:\n",
    "        newTable = pd.read_html(table.get_attribute('outerHTML'))    \n",
    "        newTable=newTable[0].fillna('')\n",
    "        newTable['date']= date\n",
    "        break\n",
    "    # Add the day's data to the main dataframe\n",
    "    main_df=pd.concat([main_df, newTable], ignore_index=True)\n",
    "\n"
   ]
  },
  {
   "cell_type": "code",
   "execution_count": 1,
   "metadata": {},
   "outputs": [
    {
     "ename": "NameError",
     "evalue": "name 'main_df' is not defined",
     "output_type": "error",
     "traceback": [
      "\u001b[1;31m---------------------------------------------------------------------------\u001b[0m",
      "\u001b[1;31mNameError\u001b[0m                                 Traceback (most recent call last)",
      "\u001b[1;32m<ipython-input-1-ef792a1a3ce5>\u001b[0m in \u001b[0;36m<module>\u001b[1;34m\u001b[0m\n\u001b[0;32m      1\u001b[0m \u001b[1;31m#Display top 5 rows\u001b[0m\u001b[1;33m\u001b[0m\u001b[1;33m\u001b[0m\u001b[1;33m\u001b[0m\u001b[0m\n\u001b[1;32m----> 2\u001b[1;33m \u001b[0mmain_df\u001b[0m\u001b[1;33m.\u001b[0m\u001b[0mhead\u001b[0m\u001b[1;33m(\u001b[0m\u001b[1;36m5\u001b[0m\u001b[1;33m)\u001b[0m\u001b[1;33m\u001b[0m\u001b[1;33m\u001b[0m\u001b[0m\n\u001b[0m",
      "\u001b[1;31mNameError\u001b[0m: name 'main_df' is not defined"
     ]
    }
   ],
   "source": [
    "#Display top 5 rows\n",
    "main_df.head(5)"
   ]
  }
 ],
 "metadata": {
  "kernelspec": {
   "display_name": "Python 3",
   "language": "python",
   "name": "python3"
  },
  "language_info": {
   "codemirror_mode": {
    "name": "ipython",
    "version": 3
   },
   "file_extension": ".py",
   "mimetype": "text/x-python",
   "name": "python",
   "nbconvert_exporter": "python",
   "pygments_lexer": "ipython3",
   "version": "3.7.3"
  }
 },
 "nbformat": 4,
 "nbformat_minor": 2
}
